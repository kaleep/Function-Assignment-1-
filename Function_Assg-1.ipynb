{
 "cells": [
  {
   "cell_type": "markdown",
   "id": "259fc506-5d94-4e2f-a23d-e15b0a654393",
   "metadata": {},
   "source": [
    "1. The keyword used to create a function in most programming languages is typically \"def\" (short for define). Here's an example of how you can create a function in Python to return a list of odd numbers in the range of 1 to 25:"
   ]
  },
  {
   "cell_type": "code",
   "execution_count": 1,
   "id": "45dd648c-f59c-42ef-8f12-2e92e79c1651",
   "metadata": {},
   "outputs": [
    {
     "name": "stdout",
     "output_type": "stream",
     "text": [
      "[1, 3, 5, 7, 9, 11, 13, 15, 17, 19, 21, 23, 25]\n"
     ]
    }
   ],
   "source": [
    "def get_odd_numbers():\n",
    "    odd_numbers = []\n",
    "    for num in range(1, 26):\n",
    "        if num % 2 != 0:\n",
    "            odd_numbers.append(num)\n",
    "    return odd_numbers\n",
    "\n",
    "# Call the function and print the result\n",
    "print(get_odd_numbers())"
   ]
  },
  {
   "cell_type": "markdown",
   "id": "c70b5889-fae7-4d5e-bf91-29e605767ccf",
   "metadata": {},
   "source": [
    "2. Both args and *kwargs are useful when you want to create functions with flexible argument lists. args handles non-keyworded arguments, while *kwargs handles keyworded arguments. You can also use them together in the same function signature if needed."
   ]
  },
  {
   "cell_type": "code",
   "execution_count": 5,
   "id": "2c64c7b8-0e55-4f7c-93e6-7a42a4e23361",
   "metadata": {},
   "outputs": [
    {
     "name": "stdout",
     "output_type": "stream",
     "text": [
      "1\n",
      "2\n",
      "3\n",
      "Hello\n",
      "World\n"
     ]
    }
   ],
   "source": [
    "def print_args(*args):\n",
    "    for arg in args:\n",
    "        print(arg)\n",
    "\n",
    "print_args(1, 2, 3) \n",
    "print_args('Hello', 'World')  "
   ]
  },
  {
   "cell_type": "code",
   "execution_count": null,
   "id": "6c79a478-9be6-4a35-bffd-062027ef326c",
   "metadata": {},
   "outputs": [],
   "source": []
  }
 ],
 "metadata": {
  "kernelspec": {
   "display_name": "Python 3 (ipykernel)",
   "language": "python",
   "name": "python3"
  },
  "language_info": {
   "codemirror_mode": {
    "name": "ipython",
    "version": 3
   },
   "file_extension": ".py",
   "mimetype": "text/x-python",
   "name": "python",
   "nbconvert_exporter": "python",
   "pygments_lexer": "ipython3",
   "version": "3.10.8"
  }
 },
 "nbformat": 4,
 "nbformat_minor": 5
}
